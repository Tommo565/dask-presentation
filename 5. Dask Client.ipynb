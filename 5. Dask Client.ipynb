{
 "cells": [
  {
   "cell_type": "markdown",
   "id": "f82f2e7b",
   "metadata": {},
   "source": [
    "# 5. Dask Client"
   ]
  },
  {
   "cell_type": "markdown",
   "id": "d14664fe",
   "metadata": {},
   "source": [
    "## Setting up an efficient Dask Client"
   ]
  },
  {
   "cell_type": "markdown",
   "id": "e0d1f520",
   "metadata": {},
   "source": [
    "#### Find your number of cores & RAM\n",
    "\n",
    "You can find your number of CPUs and RAM using the `multiprocessing` and `psutil` libraries as follows:"
   ]
  },
  {
   "cell_type": "code",
   "execution_count": null,
   "id": "fd8782c6",
   "metadata": {},
   "outputs": [],
   "source": [
    "import multiprocessing\n",
    "import psutil\n",
    "\n",
    "# Cores\n",
    "cpus = multiprocessing.cpu_count()\n",
    "\n",
    "# RAM in Gb\n",
    "ram = psutil.virtual_memory().total / 1024 / 1024 / 1024\n",
    "\n",
    "print(f\"Cores: {cpus}\")\n",
    "print(f\"RAM: {ram}\")"
   ]
  },
  {
   "cell_type": "markdown",
   "id": "eb7590b8",
   "metadata": {},
   "source": [
    "#### Setting up an efficient Dask Client\n",
    "\n",
    "This is a difficult process and not one that there's particular rules for. The following worked for me on my Mac OSX machine:\n",
    "\n",
    "#### For Dask Data Structures (DataFrame, Bag, Array)\n",
    "\n",
    "* `n_workers` = `multiprocessing.cpu_count()` / 4\n",
    "* `memory_limit` = `psutil.virtual_memory().total / 1024 / 1024 / 1024` / `n_workers`\n",
    "* `threads_per_worker` = 2 - 4 (depending on the process)\n",
    "\n",
    "#### For Dask Parallel Processing (Delayed)\n",
    "* `n_workers` = `multiprocessing.cpu_count()`\n",
    "* `memory_limit` = `psutil.virtual_memory().total / 1024 / 1024 / 1024` / `n_workers`\n",
    "* `threads_per_worker` = 1 - 4 (depending on the process - always start with 1!)\n",
    "\n",
    "\n",
    "This should provide a good starting point for you. Note that I would recommend only changing the `threads_per_worker` value depending upon your process until you're more comfortable with Dask.\n",
    "\n",
    "Note that Mac and Linux machines are more susceptible to memory errors. If you get a lot of memory errors, reduce the number of threads.\n",
    "\n",
    "In my experience of running locally...\n",
    "\n",
    "1. For Dask data structures, RAM is a larger limiting factor.\n",
    "2. For parallelisation with Dask Delayed, CPUS are a larger limiting factor."
   ]
  },
  {
   "cell_type": "markdown",
   "id": "1d43d1f7",
   "metadata": {},
   "source": [
    "## Dask Data Structures Client"
   ]
  },
  {
   "cell_type": "code",
   "execution_count": null,
   "id": "c345933b",
   "metadata": {},
   "outputs": [],
   "source": [
    "from dask.distributed import Client\n",
    "import multiprocessing\n",
    "import psutil\n",
    "\n",
    "n_workers = int(multiprocessing.cpu_count() / 4)\n",
    "threads_per_worker = 2\n",
    "memory_limit = f\"{psutil.virtual_memory().total / 1024 / 1024 / 1024 / n_workers} GiB\"\n",
    "\n",
    "client = Client(\n",
    "    n_workers=n_workers,\n",
    "    threads_per_worker=threads_per_worker,\n",
    "    memory_limit=memory_limit\n",
    ")\n",
    "\n",
    "client"
   ]
  },
  {
   "cell_type": "markdown",
   "id": "8c64b7ae",
   "metadata": {},
   "source": [
    "## Dask Delayed Client"
   ]
  },
  {
   "cell_type": "code",
   "execution_count": null,
   "id": "737937a0",
   "metadata": {},
   "outputs": [],
   "source": [
    "from dask.distributed import Client\n",
    "import multiprocessing\n",
    "import psutil\n",
    "\n",
    "n_workers = int(multiprocessing.cpu_count())\n",
    "threads_per_worker = 1\n",
    "memory_limit = f\"{psutil.virtual_memory().total / 1024 / 1024 / 1024 / n_workers} GiB\"\n",
    "\n",
    "client = Client(\n",
    "    n_workers=n_workers,\n",
    "    threads_per_worker=threads_per_worker,\n",
    "    memory_limit=memory_limit\n",
    ")\n",
    "\n",
    "client"
   ]
  },
  {
   "cell_type": "markdown",
   "id": "a70b255c",
   "metadata": {},
   "source": [
    "#### Useful Client Commands"
   ]
  },
  {
   "cell_type": "markdown",
   "id": "3ad38fc5",
   "metadata": {},
   "source": [
    "Bring up the Cluster interface"
   ]
  },
  {
   "cell_type": "code",
   "execution_count": null,
   "id": "b29a74a8",
   "metadata": {},
   "outputs": [],
   "source": [
    "client.cluster"
   ]
  },
  {
   "cell_type": "markdown",
   "id": "f187bb6c",
   "metadata": {},
   "source": [
    "Close the client"
   ]
  },
  {
   "cell_type": "code",
   "execution_count": null,
   "id": "e7b80aba",
   "metadata": {},
   "outputs": [],
   "source": [
    "client.close()"
   ]
  }
 ],
 "metadata": {
  "kernelspec": {
   "display_name": "Python 3 (ipykernel)",
   "language": "python",
   "name": "python3"
  },
  "language_info": {
   "codemirror_mode": {
    "name": "ipython",
    "version": 3
   },
   "file_extension": ".py",
   "mimetype": "text/x-python",
   "name": "python",
   "nbconvert_exporter": "python",
   "pygments_lexer": "ipython3",
   "version": "3.9.13"
  }
 },
 "nbformat": 4,
 "nbformat_minor": 5
}
