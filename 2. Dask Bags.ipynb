{
 "cells": [
  {
   "cell_type": "markdown",
   "id": "5c1c1460",
   "metadata": {},
   "source": [
    "## 2. Dask Bags"
   ]
  },
  {
   "cell_type": "markdown",
   "id": "4768e00b",
   "metadata": {},
   "source": [
    "#### Set Up the Dask Client\n",
    "\n",
    "[Bag Tutorial](https://tutorial.dask.org/02_bag.html)"
   ]
  },
  {
   "cell_type": "code",
   "execution_count": null,
   "id": "849e9e08",
   "metadata": {},
   "outputs": [],
   "source": [
    "from dask.distributed import Client\n",
    "\n",
    "client = Client(\n",
    "    n_workers=4,\n",
    "    threads_per_worker=2,\n",
    "    memory_limit=\"4 GiB\"\n",
    ")\n",
    "\n",
    "client"
   ]
  },
  {
   "cell_type": "markdown",
   "id": "46031903",
   "metadata": {},
   "source": [
    "#### Import JSON data into  a Dask Bag"
   ]
  },
  {
   "cell_type": "code",
   "execution_count": null,
   "id": "e13ac516",
   "metadata": {},
   "outputs": [],
   "source": [
    "import dask.bag as db\n",
    "import json\n",
    "\n",
    "# Read in data as text & Convert to JSON\n",
    "b = db.read_text(\"./data/flights/flights_limited_x20_json/*.part\")\n",
    "b = b.map(json.loads)\n",
    "b.take(1)"
   ]
  },
  {
   "cell_type": "markdown",
   "id": "cfce38b2",
   "metadata": {},
   "source": [
    "#### Convert Dask DataFrame to a Bag"
   ]
  },
  {
   "cell_type": "code",
   "execution_count": null,
   "id": "7acabcfb",
   "metadata": {},
   "outputs": [],
   "source": [
    "import dask.dataframe as dd\n",
    "\n",
    "df_20 = dd.read_csv(\"./data/flights/flights_limited_x20.csv\")\n",
    "b = df_20.to_bag(index=False, format='dict')\n",
    "\n",
    "b.take(1)"
   ]
  },
  {
   "cell_type": "markdown",
   "id": "3a45f6d7",
   "metadata": {},
   "source": [
    "#### Filter"
   ]
  },
  {
   "cell_type": "code",
   "execution_count": null,
   "id": "a6fe754f",
   "metadata": {},
   "outputs": [],
   "source": [
    "b_feb = b.filter(lambda record: record['MONTH'] == 2)"
   ]
  },
  {
   "cell_type": "markdown",
   "id": "7fcf72e7",
   "metadata": {},
   "source": [
    "#### Map"
   ]
  },
  {
   "cell_type": "code",
   "execution_count": null,
   "id": "4c0a8c6d",
   "metadata": {},
   "outputs": [],
   "source": [
    "import pandas as pd\n",
    "\n",
    "def convert_to_date(row):\n",
    "    \n",
    "    year = row[\"YEAR\"]\n",
    "    month = row[\"MONTH\"]\n",
    "    day = row[\"DAY\"]\n",
    "    \n",
    "    row[\"DATE\"] = pd.to_datetime(f\"{year}-{month}-{day}\")\n",
    "    \n",
    "    return row\n",
    "\n",
    "new_bag = b.map(convert_to_date)"
   ]
  },
  {
   "cell_type": "markdown",
   "id": "c109ae8a",
   "metadata": {},
   "source": [
    "#### Making a DataFrame"
   ]
  },
  {
   "cell_type": "code",
   "execution_count": null,
   "id": "bcabde55",
   "metadata": {},
   "outputs": [],
   "source": [
    "df = new_bag.to_dataframe()\n",
    "df.head()"
   ]
  },
  {
   "cell_type": "markdown",
   "id": "80102f75",
   "metadata": {},
   "source": [
    "#### Iterating Dataframes vs Bags"
   ]
  },
  {
   "cell_type": "markdown",
   "id": "05490467",
   "metadata": {},
   "source": [
    "#### Dask Bags Iteration"
   ]
  },
  {
   "cell_type": "code",
   "execution_count": null,
   "id": "df44f4cf",
   "metadata": {},
   "outputs": [],
   "source": [
    "def delay_binner_bag(row):\n",
    "        \n",
    "    if row[\"TOTAL_DELAY\"] > 10000:\n",
    "        row[\"DELAY_CAT\"] = \"Huge\"\n",
    "    \n",
    "    elif row[\"TOTAL_DELAY\"] > 6000:\n",
    "        row[\"DELAY_CAT\"] = \"Huge\"\n",
    "    \n",
    "    elif row[\"TOTAL_DELAY\"] > 3000:\n",
    "        row[\"DELAY_CAT\"] = \"Medium\"\n",
    "    \n",
    "    elif row[\"TOTAL_DELAY\"] > 1000:\n",
    "        row[\"DELAY_CAT\"] = \"Low\"  \n",
    "    \n",
    "    elif row[\"TOTAL_DELAY\"] > 0:\n",
    "        row[\"DELAY_CAT\"] = \"None\"\n",
    "    \n",
    "    else:\n",
    "        row[\"DELAY_CAT\"] = \"None\"\n",
    "        \n",
    "    return row"
   ]
  },
  {
   "cell_type": "code",
   "execution_count": null,
   "id": "fa9952b3",
   "metadata": {},
   "outputs": [],
   "source": [
    "%%time\n",
    "\n",
    "import dask.dataframe as dd\n",
    "import json\n",
    "\n",
    "# Read the data in and convert to a bag\n",
    "df_20 = dd.read_csv(\n",
    "    \"./data/flights/flights_limited_x20_agg/*.part\"\n",
    ")\n",
    "b = df_20.to_bag(index=False, format='dict')\n",
    "\n",
    "# Map the function to the bag and write to JSON\n",
    "(\n",
    "    b.map(delay_binner_bag)\n",
    "    .map(json.dumps)\n",
    "    .to_textfiles('./data/flights/flights_limited_x20_agg/*.json')\n",
    ")\n"
   ]
  },
  {
   "cell_type": "markdown",
   "id": "98a90559",
   "metadata": {},
   "source": [
    "#### Dask DataFrames Iteration"
   ]
  },
  {
   "cell_type": "code",
   "execution_count": null,
   "id": "2aa1b8a5",
   "metadata": {},
   "outputs": [],
   "source": [
    "def delay_binner_df(row):\n",
    "    \n",
    "    if row[\"TOTAL_DELAY\"] > 10000:\n",
    "        return \"Huge\"\n",
    "    \n",
    "    elif row[\"TOTAL_DELAY\"] > 6000:\n",
    "        return \"Large\"\n",
    "    \n",
    "    elif row[\"TOTAL_DELAY\"] > 3000:\n",
    "        return \"Medium\"\n",
    "    \n",
    "    elif row[\"TOTAL_DELAY\"] > 1000:\n",
    "        return \"Low\"  \n",
    "    \n",
    "    elif row[\"TOTAL_DELAY\"] > 0:\n",
    "        return \"None\"\n",
    "    \n",
    "    else:\n",
    "        return \"None\""
   ]
  },
  {
   "cell_type": "code",
   "execution_count": null,
   "id": "e4daf4bc",
   "metadata": {},
   "outputs": [],
   "source": [
    "%%time\n",
    "\n",
    "import dask.dataframe as dd\n",
    "\n",
    "df = dd.read_csv(\n",
    "    \"./data/flights/flights_limited_x20_agg/*.part\"\n",
    ")\n",
    "df[\"DELAY_CAT\"] = df.apply(\n",
    "    delay_binner_df, meta=(None, 'object'), axis=1\n",
    ")\n",
    "df.to_csv(\n",
    "    \"./data/flights/flights/flights_limited_x20_agg_cat/*.csv\"\n",
    ")"
   ]
  },
  {
   "cell_type": "code",
   "execution_count": null,
   "id": "32706694",
   "metadata": {},
   "outputs": [],
   "source": []
  }
 ],
 "metadata": {
  "kernelspec": {
   "display_name": "Python 3 (ipykernel)",
   "language": "python",
   "name": "python3"
  },
  "language_info": {
   "codemirror_mode": {
    "name": "ipython",
    "version": 3
   },
   "file_extension": ".py",
   "mimetype": "text/x-python",
   "name": "python",
   "nbconvert_exporter": "python",
   "pygments_lexer": "ipython3",
   "version": "3.9.13"
  }
 },
 "nbformat": 4,
 "nbformat_minor": 5
}
