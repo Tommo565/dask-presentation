{
 "cells": [
  {
   "cell_type": "markdown",
   "id": "5dc08327",
   "metadata": {},
   "source": [
    "# 3. Dask Delayed"
   ]
  },
  {
   "cell_type": "markdown",
   "id": "f497cc68",
   "metadata": {},
   "source": [
    "## Read in + Clean the Time Series data"
   ]
  },
  {
   "cell_type": "code",
   "execution_count": null,
   "id": "6eebf8ff",
   "metadata": {},
   "outputs": [],
   "source": [
    "import pandas as pd\n",
    "\n",
    "# Read in the csv\n",
    "df = pd.read_csv(\n",
    "    \"./data/store-sales-time-series-forecasting/train.csv\",\n",
    "    usecols=[\"date\", \"store_nbr\", \"family\", \"sales\"],\n",
    "    parse_dates=[\"date\"]\n",
    ")\n",
    "\n",
    "# Create a UID for store / family\n",
    "df[\"store_family\"] = (\n",
    "    df[\"store_nbr\"].astype(str) + \"-\" + df[\"family\"]\n",
    ")\n",
    "\n",
    "# Drop store / family columns + rename for Prophet\n",
    "df = (\n",
    "    df.drop([\"store_nbr\", \"family\"], axis=1)\n",
    "    .rename({\n",
    "        \"date\": \"ds\",\n",
    "        \"sales\": \"y\"\n",
    "    }, axis=1)\n",
    "    .sort_values(by=[\"store_family\", \"ds\"])\n",
    "    .reset_index(drop=True)\n",
    ")\n",
    "\n",
    "# Limit to 500 Time Series\n",
    "first_500 = df[\"store_family\"].unique().tolist()[0:500] \n",
    "df = df[\n",
    "    df[\"store_family\"].isin(first_500)\n",
    "]"
   ]
  },
  {
   "cell_type": "markdown",
   "id": "167146d4",
   "metadata": {},
   "source": [
    "## Pandas Speed Test"
   ]
  },
  {
   "cell_type": "code",
   "execution_count": null,
   "id": "7fc4a804",
   "metadata": {},
   "outputs": [],
   "source": [
    "from prophet import Prophet\n",
    "\n",
    "def create_ts(df):\n",
    "    \"\"\"\n",
    "    Runs a Prophet time series forecast. \n",
    "    Works on DataFrames and with .apply()\n",
    "    \"\"\"\n",
    "    \n",
    "    # Run the time series forecast\n",
    "    model = Prophet(\n",
    "        yearly_seasonality=True,\n",
    "        weekly_seasonality=True,\n",
    "        daily_seasonality=True\n",
    "    )\n",
    "\n",
    "    # Fit the Model\n",
    "    model.fit(df)\n",
    "    \n",
    "    # Generate a future df\n",
    "    forecast = model.make_future_dataframe(\n",
    "        periods=365,\n",
    "        include_history=True\n",
    "    )\n",
    "    \n",
    "    # Make the forecast\n",
    "    df_ts = model.predict(forecast)\n",
    "    \n",
    "    return df_ts"
   ]
  },
  {
   "cell_type": "code",
   "execution_count": null,
   "id": "c93c7dcf",
   "metadata": {},
   "outputs": [],
   "source": [
    "%%time\n",
    "\n",
    "tab = (\n",
    "    df.groupby(\"store_family\")\n",
    "    .apply(create_ts)\n",
    "    .reset_index(drop=True)\n",
    ")"
   ]
  },
  {
   "cell_type": "markdown",
   "id": "5359beba",
   "metadata": {},
   "source": [
    "## Dask Speed Test"
   ]
  },
  {
   "cell_type": "code",
   "execution_count": null,
   "id": "b4afe382",
   "metadata": {},
   "outputs": [],
   "source": [
    "from dask.distributed import Client\n",
    "\n",
    "client = Client(\n",
    "    n_workers=16,\n",
    "    threads_per_worker=1,\n",
    "    memory_limit=\"1 GiB\"\n",
    ")\n",
    "\n",
    "client"
   ]
  },
  {
   "cell_type": "code",
   "execution_count": null,
   "id": "ba9d6bba",
   "metadata": {},
   "outputs": [],
   "source": [
    "%%time\n",
    "\n",
    "from dask import delayed\n",
    "from prophet import Prophet\n",
    "\n",
    "@delayed\n",
    "def create_ts(df):\n",
    "    \"\"\"\n",
    "    Runs a Prophet time series forecast. \n",
    "    Works on DataFrames and with .apply()\n",
    "    \"\"\"\n",
    "    \n",
    "    # Run the time series forecast\n",
    "    model = Prophet(\n",
    "        yearly_seasonality=True,\n",
    "        weekly_seasonality=True,\n",
    "        daily_seasonality=True\n",
    "    )\n",
    "\n",
    "    # Fit the Model\n",
    "    model.fit(df)\n",
    "    \n",
    "    # Generate a future df\n",
    "    forecast = model.make_future_dataframe(\n",
    "        periods=365,\n",
    "        include_history=True\n",
    "    )\n",
    "    \n",
    "    # Make the forecast\n",
    "    df_ts = model.predict(forecast)\n",
    "    \n",
    "    return df_ts"
   ]
  },
  {
   "cell_type": "code",
   "execution_count": null,
   "id": "4ad4c656",
   "metadata": {},
   "outputs": [],
   "source": [
    "%%time\n",
    "\n",
    "from dask import compute\n",
    "\n",
    "tab = (\n",
    "    df.groupby(\"store_family\")\n",
    "    .apply(create_ts)\n",
    "    .reset_index(drop=True)\n",
    ")\n",
    "\n",
    "tab_out = compute(*tab)[0]"
   ]
  },
  {
   "cell_type": "markdown",
   "id": "ad9bebd5",
   "metadata": {},
   "source": [
    "## Dask Alternative Version (Quicker!)"
   ]
  },
  {
   "cell_type": "code",
   "execution_count": null,
   "id": "5431581a",
   "metadata": {},
   "outputs": [],
   "source": [
    "%time\n",
    "\n",
    "from dask import delayed\n",
    "from prophet import Prophet\n",
    "from prophet.plot import plot\n",
    "from dask import compute\n",
    "\n",
    "groups = df.groupby(\"store_family\")\n",
    "\n",
    "@delayed\n",
    "def create_ts(group_name):\n",
    "    \"\"\"Runs a Prophet time series forecast\"\"\"\n",
    "    \n",
    "    # Retrive the group\n",
    "    df_gp = groups.get_group(group_name)\n",
    "    \n",
    "    # Drop the store_family column\n",
    "    df_gp = df_gp.drop(\"store_family\", axis=1)\n",
    "    \n",
    "    # Run the time series forecast\n",
    "    model = Prophet(\n",
    "        yearly_seasonality=True,\n",
    "        weekly_seasonality=True,\n",
    "        daily_seasonality=True\n",
    "    )\n",
    "\n",
    "    # Fit the Model\n",
    "    model.fit(df_gp)\n",
    "    \n",
    "    # Generate a future df\n",
    "    forecast = model.make_future_dataframe(\n",
    "        periods=365,\n",
    "        include_history=True\n",
    "    )\n",
    "    \n",
    "    # Make the forecast\n",
    "    df_ts = model.predict(forecast)\n",
    "    \n",
    "    \n",
    "    df_ts[\"store_family\"] = group_name\n",
    "    \n",
    "    return df_ts\n",
    "\n",
    "\n",
    "df_list = [create_ts(group_name) for group_name in group_names]\n",
    "df_computed = pd.concat(compute(df_list)[0])"
   ]
  }
 ],
 "metadata": {
  "kernelspec": {
   "display_name": "dask-pres",
   "language": "python",
   "name": "dask-pres"
  },
  "language_info": {
   "codemirror_mode": {
    "name": "ipython",
    "version": 3
   },
   "file_extension": ".py",
   "mimetype": "text/x-python",
   "name": "python",
   "nbconvert_exporter": "python",
   "pygments_lexer": "ipython3",
   "version": "3.9.13"
  }
 },
 "nbformat": 4,
 "nbformat_minor": 5
}
