{
 "cells": [
  {
   "cell_type": "markdown",
   "id": "b671e9d1",
   "metadata": {},
   "source": [
    "## Dask ML"
   ]
  },
  {
   "cell_type": "code",
   "execution_count": null,
   "id": "036e7cc5",
   "metadata": {},
   "outputs": [],
   "source": [
    "from dask.distributed import Client\n",
    "\n",
    "client = Client(\n",
    "    n_workers=4,\n",
    "    threads_per_worker=2,\n",
    "    memory_limit=\"4 GiB\"\n",
    ")\n",
    "\n",
    "client"
   ]
  },
  {
   "cell_type": "markdown",
   "id": "50ff94c4",
   "metadata": {},
   "source": [
    "## Prep some Flights Data for ML"
   ]
  },
  {
   "cell_type": "code",
   "execution_count": null,
   "id": "89a14901",
   "metadata": {},
   "outputs": [],
   "source": [
    "%%time\n",
    "\n",
    "import dask.dataframe as dd\n",
    "\n",
    "# Read the data in from csv\n",
    "\n",
    "usecols = [\n",
    "    \"YEAR\", \"MONTH\", \"DAY_OF_WEEK\", \"DISTANCE\", \"AIR_TIME\", \n",
    "    \"ARRIVAL_DELAY\", \"CANCELLED\"\n",
    "]\n",
    "\n",
    "df = dd.read_csv(\n",
    "    \"./data/flights/flights.csv\",\n",
    "    usecols=usecols,\n",
    "    dtype={\n",
    "        \"YEAR\": \"int16\",\n",
    "        \"MONTH\": \"int16\",\n",
    "        \"DAY_OF_WEEK\": \"int16\",\n",
    "        \"DISTANCE\": \"int16\",\n",
    "        \"AIR_TIME\": \"float16\",\n",
    "        \"ARRIVAL_DELAY\": \"float16\",\n",
    "        \"CANCELLED\": \"bool\"\n",
    "    }\n",
    ")\n",
    "\n",
    "# Remove Cancelled Flights, One-hot encoding, dropping na\n",
    "df = (\n",
    "    df[\n",
    "        (df[\"CANCELLED\"] == False) \n",
    "    ]\n",
    "    .drop([\"CANCELLED\"], axis=1)\n",
    "    .dropna(how=\"any\")\n",
    ")"
   ]
  },
  {
   "cell_type": "markdown",
   "id": "c015a268",
   "metadata": {},
   "source": [
    "## Option 1: Using Dask as a backend for SKL\n",
    "\n",
    "First we create a train / test split using SKL."
   ]
  },
  {
   "cell_type": "code",
   "execution_count": null,
   "id": "acd3d9ec",
   "metadata": {},
   "outputs": [],
   "source": [
    "from sklearn.ensemble import RandomForestRegressor\n",
    "from sklearn.model_selection import train_test_split\n",
    "\n",
    "df_out = df.compute()\n",
    "client.close()\n",
    "\n",
    "# Split into Features and Target\n",
    "X = df_out.drop(\"ARRIVAL_DELAY\", axis=1)\n",
    "y = df_out[[\"ARRIVAL_DELAY\"]].values.ravel()\n",
    "\n",
    "X_train, X_test, y_train, y_test = train_test_split(\n",
    "    X, y, test_size=0.5\n",
    ")\n",
    "\n",
    "df_out.shape"
   ]
  },
  {
   "cell_type": "markdown",
   "id": "89c17739",
   "metadata": {},
   "source": [
    "## Parallelised SKL\n",
    "\n",
    "Running SKL in parallel..."
   ]
  },
  {
   "cell_type": "code",
   "execution_count": null,
   "id": "c644f295",
   "metadata": {},
   "outputs": [],
   "source": [
    "%%time\n",
    "\n",
    "model = RandomForestRegressor(\n",
    "    n_jobs=-1,\n",
    "    verbose=True\n",
    ")\n",
    "\n",
    "model.fit(X_train, y_train)"
   ]
  },
  {
   "cell_type": "markdown",
   "id": "de20440b",
   "metadata": {},
   "source": [
    "## Dask ML\n",
    "\n",
    "First, create a client..."
   ]
  },
  {
   "cell_type": "code",
   "execution_count": null,
   "id": "9359b534",
   "metadata": {},
   "outputs": [],
   "source": [
    "client.close()"
   ]
  },
  {
   "cell_type": "code",
   "execution_count": null,
   "id": "c23bb08e",
   "metadata": {},
   "outputs": [],
   "source": [
    "from dask.distributed import Client\n",
    "\n",
    "client = Client(\n",
    "    n_workers=4,\n",
    "    threads_per_worker=2,\n",
    "    memory_limit=\"4 GiB\"\n",
    ")\n",
    "\n",
    "client"
   ]
  },
  {
   "cell_type": "markdown",
   "id": "d173c141",
   "metadata": {},
   "source": [
    "#### Running via a Dask Backend\n",
    "\n",
    "It's easy but actually a little slower than Parallelised SKL =("
   ]
  },
  {
   "cell_type": "code",
   "execution_count": null,
   "id": "0226ef75",
   "metadata": {},
   "outputs": [],
   "source": [
    "%%time\n",
    "\n",
    "import joblib\n",
    "\n",
    "model = RandomForestRegressor(verbose=True)\n",
    "\n",
    "with joblib.parallel_backend('dask'):\n",
    "    model.fit(X_train, y_train)"
   ]
  },
  {
   "cell_type": "markdown",
   "id": "4a0f9ceb",
   "metadata": {},
   "source": [
    "## Option 2: Using dask-ml\n",
    "\n",
    "We can also use defined Dask-ML models (df = a Dask DataFrame):"
   ]
  },
  {
   "cell_type": "markdown",
   "id": "3dec8183",
   "metadata": {},
   "source": [
    "#### With Dask-ML"
   ]
  },
  {
   "cell_type": "code",
   "execution_count": null,
   "id": "00195389",
   "metadata": {},
   "outputs": [],
   "source": [
    "%%time\n",
    "\n",
    "from dask_ml.xgboost import XGBRegressor\n",
    "from dask_ml.model_selection import train_test_split\n",
    "\n",
    "# Init the model\n",
    "model = XGBRegressor()\n",
    "\n",
    "# Split Dask DataFrame into Features and Target\n",
    "X = df.drop(\"ARRIVAL_DELAY\", axis=1)\n",
    "y = df[[\"ARRIVAL_DELAY\"]]\n",
    "\n",
    "X_train, X_test, y_train, y_test = train_test_split(\n",
    "    X, y, test_size=0.5\n",
    ")\n",
    "\n",
    "model.fit(X_train.compute(), y_train.compute())\n",
    "model.predict(X_test)"
   ]
  },
  {
   "cell_type": "markdown",
   "id": "57f85a8c",
   "metadata": {},
   "source": [
    "Compared to the XGBoost package (running in parallel) it's 2x as quick."
   ]
  },
  {
   "cell_type": "code",
   "execution_count": null,
   "id": "293b810c",
   "metadata": {},
   "outputs": [],
   "source": [
    "df_out = df.compute()\n",
    "client.close()"
   ]
  },
  {
   "cell_type": "code",
   "execution_count": null,
   "id": "e5c946c2",
   "metadata": {},
   "outputs": [],
   "source": [
    "%%time\n",
    "\n",
    "from xgboost import XGBRegressor\n",
    "from sklearn.model_selection import train_test_split\n",
    "\n",
    "\n",
    "\n",
    "# Split into Features and Target\n",
    "X = df_out.drop(\"ARRIVAL_DELAY\", axis=1)\n",
    "y = df_out[[\"ARRIVAL_DELAY\"]]\n",
    "\n",
    "X_train, X_test, y_train, y_test = train_test_split(\n",
    "    X, y, test_size=0.5\n",
    ")\n",
    "\n",
    "model = XGBRegressor(n_jobs=16)\n",
    "model.fit(X_train, y_train)\n",
    "model.predict(X_test)"
   ]
  },
  {
   "cell_type": "markdown",
   "id": "7ea14a4d",
   "metadata": {},
   "source": [
    "## Using a dask-ml Incremental wrapper"
   ]
  },
  {
   "cell_type": "code",
   "execution_count": null,
   "id": "2bb04031",
   "metadata": {},
   "outputs": [],
   "source": [
    "%%time\n",
    "\n",
    "from sklearn.linear_model import PassiveAggressiveRegressor\n",
    "from dask_ml.wrappers import Incremental\n",
    "from dask_ml.model_selection import train_test_split\n",
    "\n",
    "# Split into Features and Target\n",
    "X = df.drop(\"ARRIVAL_DELAY\", axis=1)\n",
    "y = df[[\"ARRIVAL_DELAY\"]]\n",
    "\n",
    "X_train, X_test, y_train, y_test = train_test_split(\n",
    "    X, y, test_size=0.5\n",
    ")\n",
    "\n",
    "model = Incremental(PassiveAggressiveRegressor())\n",
    "model.fit(X_train, y_train)"
   ]
  },
  {
   "cell_type": "code",
   "execution_count": null,
   "id": "c48a34a2",
   "metadata": {},
   "outputs": [],
   "source": [
    "model.predict(X_test.compute())"
   ]
  },
  {
   "cell_type": "markdown",
   "id": "d8bd6fdc",
   "metadata": {},
   "source": [
    "## Using SKL with Dask Objects"
   ]
  },
  {
   "cell_type": "code",
   "execution_count": null,
   "id": "e6348d31",
   "metadata": {},
   "outputs": [],
   "source": [
    "%%time\n",
    "\n",
    "from sklearn.linear_model import PassiveAggressiveRegressor\n",
    "from dask_ml.model_selection import train_test_split\n",
    "\n",
    "\n",
    "# Split into Features and Target\n",
    "X = df.drop(\"ARRIVAL_DELAY\", axis=1)\n",
    "y = df[[\"ARRIVAL_DELAY\"]]\n",
    "\n",
    "X_train, X_test, y_train, y_test = train_test_split(\n",
    "    X, y, test_size=0.5\n",
    ")\n",
    "\n",
    "model = PassiveAggressiveRegressor()\n",
    "model.fit(X_train, y_train)\n",
    "model.predict(X_test.compute())"
   ]
  },
  {
   "cell_type": "raw",
   "id": "95bac504",
   "metadata": {},
   "source": []
  }
 ],
 "metadata": {
  "kernelspec": {
   "display_name": "dask-pres",
   "language": "python",
   "name": "dask-pres"
  },
  "language_info": {
   "codemirror_mode": {
    "name": "ipython",
    "version": 3
   },
   "file_extension": ".py",
   "mimetype": "text/x-python",
   "name": "python",
   "nbconvert_exporter": "python",
   "pygments_lexer": "ipython3",
   "version": "3.9.13"
  }
 },
 "nbformat": 4,
 "nbformat_minor": 5
}
