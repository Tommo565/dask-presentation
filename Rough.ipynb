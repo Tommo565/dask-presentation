{
 "cells": [
  {
   "cell_type": "code",
   "execution_count": null,
   "id": "3b429500",
   "metadata": {},
   "outputs": [],
   "source": [
    "import random"
   ]
  },
  {
   "cell_type": "code",
   "execution_count": null,
   "id": "4b9570ad",
   "metadata": {},
   "outputs": [],
   "source": [
    "import pandas as pd\n",
    "\n",
    "df = pd.read_csv(\"data/flights/flights.csv\")\n",
    "\n",
    "df[\"NewCol\"] = random.random()\n",
    "df = df.drop(\"NewCol\", axis=1)\n",
    "df = df[df[\"MONTH\"] > 5]"
   ]
  },
  {
   "cell_type": "code",
   "execution_count": null,
   "id": "12040867",
   "metadata": {},
   "outputs": [],
   "source": [
    "import dask.dataframe as dd\n",
    "\n",
    "df = dd.read_csv(\"data/flights/flights.csv\")\n",
    "\n",
    "df[\"NewCol\"] = random.random()\n",
    "df = df.drop(\"NewCol\", axis=1)\n",
    "df = df[df[\"MONTH\"] > 5]"
   ]
  },
  {
   "cell_type": "code",
   "execution_count": null,
   "id": "c17f6740",
   "metadata": {},
   "outputs": [],
   "source": [
    "df = (\n",
    "    pd.read_csv(\"data/flights/flights.csv\")\n",
    "    .assign(NewCol=random.random())\n",
    "    .drop(\"NewCol\", axis=1)\n",
    "    .rename({\"MONTH\": \"Month\"}, axis=1)\n",
    "    .query(\"Month == 5\")\n",
    ")"
   ]
  },
  {
   "cell_type": "code",
   "execution_count": null,
   "id": "98169bd4",
   "metadata": {},
   "outputs": [],
   "source": [
    "df.head()"
   ]
  },
  {
   "cell_type": "code",
   "execution_count": null,
   "id": "4d5b3793",
   "metadata": {},
   "outputs": [],
   "source": [
    "df = (\n",
    "    dd.read_csv(\"data/flights/flights.csv\")\n",
    "    .assign(NewCol=random.random())\n",
    "    .drop(\"NewCol\", axis=1)\n",
    "    .rename(columns={\"MONTH\": \"Month\"})\n",
    "    .query(\"Month == 5\")\n",
    ")"
   ]
  },
  {
   "cell_type": "code",
   "execution_count": null,
   "id": "67224ed5",
   "metadata": {},
   "outputs": [],
   "source": [
    "df.compute()"
   ]
  },
  {
   "cell_type": "code",
   "execution_count": null,
   "id": "6d15fbda",
   "metadata": {},
   "outputs": [],
   "source": []
  }
 ],
 "metadata": {
  "kernelspec": {
   "display_name": "dask-pres",
   "language": "python",
   "name": "dask-pres"
  },
  "language_info": {
   "codemirror_mode": {
    "name": "ipython",
    "version": 3
   },
   "file_extension": ".py",
   "mimetype": "text/x-python",
   "name": "python",
   "nbconvert_exporter": "python",
   "pygments_lexer": "ipython3",
   "version": "3.9.13"
  }
 },
 "nbformat": 4,
 "nbformat_minor": 5
}
